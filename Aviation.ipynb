{
  "cells": [
    {
      "cell_type": "code",
      "source": [
        "import pandas as pd\n",
        "import numpy as np\n",
        "import matplotlib.pyplot as plt\n",
        "import seaborn as sns"
      ],
      "metadata": {
        "id": "7XrzvI_6UDQx"
      },
      "execution_count": null,
      "outputs": []
    },
    {
      "cell_type": "code",
      "execution_count": null,
      "metadata": {
        "colab": {
          "base_uri": "https://localhost:8080/",
          "height": 90
        },
        "id": "ecCSe48tUwcW",
        "outputId": "585dd51f-0292-4abb-a40b-bdf0ddb1c3c9"
      },
      "outputs": [
        {
          "output_type": "display_data",
          "data": {
            "text/plain": [
              "<IPython.core.display.HTML object>"
            ],
            "text/html": [
              "\n",
              "     <input type=\"file\" id=\"files-89fa4e6d-81db-4d91-97bf-9c036b7fa4dc\" name=\"files[]\" multiple disabled\n",
              "        style=\"border:none\" />\n",
              "     <output id=\"result-89fa4e6d-81db-4d91-97bf-9c036b7fa4dc\">\n",
              "      Upload widget is only available when the cell has been executed in the\n",
              "      current browser session. Please rerun this cell to enable.\n",
              "      </output>\n",
              "      <script>// Copyright 2017 Google LLC\n",
              "//\n",
              "// Licensed under the Apache License, Version 2.0 (the \"License\");\n",
              "// you may not use this file except in compliance with the License.\n",
              "// You may obtain a copy of the License at\n",
              "//\n",
              "//      http://www.apache.org/licenses/LICENSE-2.0\n",
              "//\n",
              "// Unless required by applicable law or agreed to in writing, software\n",
              "// distributed under the License is distributed on an \"AS IS\" BASIS,\n",
              "// WITHOUT WARRANTIES OR CONDITIONS OF ANY KIND, either express or implied.\n",
              "// See the License for the specific language governing permissions and\n",
              "// limitations under the License.\n",
              "\n",
              "/**\n",
              " * @fileoverview Helpers for google.colab Python module.\n",
              " */\n",
              "(function(scope) {\n",
              "function span(text, styleAttributes = {}) {\n",
              "  const element = document.createElement('span');\n",
              "  element.textContent = text;\n",
              "  for (const key of Object.keys(styleAttributes)) {\n",
              "    element.style[key] = styleAttributes[key];\n",
              "  }\n",
              "  return element;\n",
              "}\n",
              "\n",
              "// Max number of bytes which will be uploaded at a time.\n",
              "const MAX_PAYLOAD_SIZE = 100 * 1024;\n",
              "\n",
              "function _uploadFiles(inputId, outputId) {\n",
              "  const steps = uploadFilesStep(inputId, outputId);\n",
              "  const outputElement = document.getElementById(outputId);\n",
              "  // Cache steps on the outputElement to make it available for the next call\n",
              "  // to uploadFilesContinue from Python.\n",
              "  outputElement.steps = steps;\n",
              "\n",
              "  return _uploadFilesContinue(outputId);\n",
              "}\n",
              "\n",
              "// This is roughly an async generator (not supported in the browser yet),\n",
              "// where there are multiple asynchronous steps and the Python side is going\n",
              "// to poll for completion of each step.\n",
              "// This uses a Promise to block the python side on completion of each step,\n",
              "// then passes the result of the previous step as the input to the next step.\n",
              "function _uploadFilesContinue(outputId) {\n",
              "  const outputElement = document.getElementById(outputId);\n",
              "  const steps = outputElement.steps;\n",
              "\n",
              "  const next = steps.next(outputElement.lastPromiseValue);\n",
              "  return Promise.resolve(next.value.promise).then((value) => {\n",
              "    // Cache the last promise value to make it available to the next\n",
              "    // step of the generator.\n",
              "    outputElement.lastPromiseValue = value;\n",
              "    return next.value.response;\n",
              "  });\n",
              "}\n",
              "\n",
              "/**\n",
              " * Generator function which is called between each async step of the upload\n",
              " * process.\n",
              " * @param {string} inputId Element ID of the input file picker element.\n",
              " * @param {string} outputId Element ID of the output display.\n",
              " * @return {!Iterable<!Object>} Iterable of next steps.\n",
              " */\n",
              "function* uploadFilesStep(inputId, outputId) {\n",
              "  const inputElement = document.getElementById(inputId);\n",
              "  inputElement.disabled = false;\n",
              "\n",
              "  const outputElement = document.getElementById(outputId);\n",
              "  outputElement.innerHTML = '';\n",
              "\n",
              "  const pickedPromise = new Promise((resolve) => {\n",
              "    inputElement.addEventListener('change', (e) => {\n",
              "      resolve(e.target.files);\n",
              "    });\n",
              "  });\n",
              "\n",
              "  const cancel = document.createElement('button');\n",
              "  inputElement.parentElement.appendChild(cancel);\n",
              "  cancel.textContent = 'Cancel upload';\n",
              "  const cancelPromise = new Promise((resolve) => {\n",
              "    cancel.onclick = () => {\n",
              "      resolve(null);\n",
              "    };\n",
              "  });\n",
              "\n",
              "  // Wait for the user to pick the files.\n",
              "  const files = yield {\n",
              "    promise: Promise.race([pickedPromise, cancelPromise]),\n",
              "    response: {\n",
              "      action: 'starting',\n",
              "    }\n",
              "  };\n",
              "\n",
              "  cancel.remove();\n",
              "\n",
              "  // Disable the input element since further picks are not allowed.\n",
              "  inputElement.disabled = true;\n",
              "\n",
              "  if (!files) {\n",
              "    return {\n",
              "      response: {\n",
              "        action: 'complete',\n",
              "      }\n",
              "    };\n",
              "  }\n",
              "\n",
              "  for (const file of files) {\n",
              "    const li = document.createElement('li');\n",
              "    li.append(span(file.name, {fontWeight: 'bold'}));\n",
              "    li.append(span(\n",
              "        `(${file.type || 'n/a'}) - ${file.size} bytes, ` +\n",
              "        `last modified: ${\n",
              "            file.lastModifiedDate ? file.lastModifiedDate.toLocaleDateString() :\n",
              "                                    'n/a'} - `));\n",
              "    const percent = span('0% done');\n",
              "    li.appendChild(percent);\n",
              "\n",
              "    outputElement.appendChild(li);\n",
              "\n",
              "    const fileDataPromise = new Promise((resolve) => {\n",
              "      const reader = new FileReader();\n",
              "      reader.onload = (e) => {\n",
              "        resolve(e.target.result);\n",
              "      };\n",
              "      reader.readAsArrayBuffer(file);\n",
              "    });\n",
              "    // Wait for the data to be ready.\n",
              "    let fileData = yield {\n",
              "      promise: fileDataPromise,\n",
              "      response: {\n",
              "        action: 'continue',\n",
              "      }\n",
              "    };\n",
              "\n",
              "    // Use a chunked sending to avoid message size limits. See b/62115660.\n",
              "    let position = 0;\n",
              "    do {\n",
              "      const length = Math.min(fileData.byteLength - position, MAX_PAYLOAD_SIZE);\n",
              "      const chunk = new Uint8Array(fileData, position, length);\n",
              "      position += length;\n",
              "\n",
              "      const base64 = btoa(String.fromCharCode.apply(null, chunk));\n",
              "      yield {\n",
              "        response: {\n",
              "          action: 'append',\n",
              "          file: file.name,\n",
              "          data: base64,\n",
              "        },\n",
              "      };\n",
              "\n",
              "      let percentDone = fileData.byteLength === 0 ?\n",
              "          100 :\n",
              "          Math.round((position / fileData.byteLength) * 100);\n",
              "      percent.textContent = `${percentDone}% done`;\n",
              "\n",
              "    } while (position < fileData.byteLength);\n",
              "  }\n",
              "\n",
              "  // All done.\n",
              "  yield {\n",
              "    response: {\n",
              "      action: 'complete',\n",
              "    }\n",
              "  };\n",
              "}\n",
              "\n",
              "scope.google = scope.google || {};\n",
              "scope.google.colab = scope.google.colab || {};\n",
              "scope.google.colab._files = {\n",
              "  _uploadFiles,\n",
              "  _uploadFilesContinue,\n",
              "};\n",
              "})(self);\n",
              "</script> "
            ]
          },
          "metadata": {}
        },
        {
          "output_type": "stream",
          "name": "stdout",
          "text": [
            "Saving kaggle.json to kaggle.json\n"
          ]
        },
        {
          "output_type": "execute_result",
          "data": {
            "text/plain": [
              "{'kaggle.json': b'{\"username\":\"joelbasilkurian\",\"key\":\"fff447dabe5eddf0c64a6bd88681cc14\"}'}"
            ]
          },
          "metadata": {},
          "execution_count": 3
        }
      ],
      "source": [
        "from google.colab import files\n",
        "files.upload()"
      ]
    },
    {
      "cell_type": "code",
      "execution_count": null,
      "metadata": {
        "id": "2YcwL7q1Vtl7"
      },
      "outputs": [],
      "source": [
        "import os\n",
        "import zipfile\n",
        "\n",
        "# Create kaggle directory\n",
        "os.makedirs('/root/.kaggle', exist_ok=True)\n",
        "\n",
        "# Move kaggle.json into it\n",
        "!mv kaggle.json /root/.kaggle/\n",
        "\n",
        "# Set permissions\n",
        "!chmod 600 /root/.kaggle/kaggle.json"
      ]
    },
    {
      "cell_type": "code",
      "execution_count": null,
      "metadata": {
        "colab": {
          "base_uri": "https://localhost:8080/"
        },
        "id": "pTdLoxoGVyng",
        "outputId": "632a8348-cebd-4b1e-84c1-49e5f9ce845f"
      },
      "outputs": [
        {
          "output_type": "stream",
          "name": "stdout",
          "text": [
            "Dataset URL: https://www.kaggle.com/datasets/giovamata/airlinedelaycauses\n",
            "License(s): unknown\n",
            "Downloading airlinedelaycauses.zip to /content\n",
            "  0% 0.00/66.6M [00:00<?, ?B/s]\n",
            "100% 66.6M/66.6M [00:00<00:00, 1.71GB/s]\n"
          ]
        }
      ],
      "source": [
        "!kaggle datasets download -d giovamata/airlinedelaycauses"
      ]
    },
    {
      "cell_type": "code",
      "execution_count": null,
      "metadata": {
        "id": "XHlY_K3yWT0O"
      },
      "outputs": [],
      "source": [
        "with zipfile.ZipFile(\"airlinedelaycauses.zip\", 'r') as zip_ref:\n",
        "    zip_ref.extractall(\"airlinedelaycauses\")"
      ]
    },
    {
      "cell_type": "code",
      "source": [
        "print(\"--- Step 1: Loading BTS and NTSB Data ---\")\n",
        "\n",
        "try:\n",
        "    # Load the NTSB dataset using the robust 'cp1252' encoding\n",
        "    ntsb_df = pd.read_csv('ntsb.csv', low_memory=False, encoding='cp1252')\n",
        "    # Load the BTS dataset\n",
        "    bts_df = pd.read_csv('/content/airlinedelaycauses/DelayedFlights.csv', low_memory=False)\n",
        "\n",
        "    print(\"Data loaded successfully.\")\n",
        "\n",
        "except FileNotFoundError as e:\n",
        "    print(f\"File not found: {e}. Please ensure both 'ntsb.csv' and 'bts.csv' are uploaded.\")"
      ],
      "metadata": {
        "colab": {
          "base_uri": "https://localhost:8080/"
        },
        "id": "qLYM46I5UI79",
        "outputId": "dfc4e63e-c473-4b92-c585-fbd310ca702d"
      },
      "execution_count": null,
      "outputs": [
        {
          "output_type": "stream",
          "name": "stdout",
          "text": [
            "--- Step 1: Loading BTS and NTSB Data ---\n",
            "Data loaded successfully.\n"
          ]
        }
      ]
    },
    {
      "cell_type": "code",
      "source": [
        "print(\"\\n--- Cleaning BTS Data ---\")\n",
        "if 'Unnamed: 0' in bts_df.columns:\n",
        "    bts_df.drop(columns=['Unnamed: 0'], inplace=True)\n",
        "\n",
        "bts_df.dropna(subset=['TailNum', 'DepTime', 'ArrTime', 'ActualElapsedTime'], inplace=True)\n",
        "bts_df = bts_df[(bts_df['Cancelled'] == 0) & (bts_df['Diverted'] == 0)]\n",
        "bts_df['FlightDate'] = pd.to_datetime(bts_df[['Year', 'Month', 'DayofMonth']].rename(columns={'Year': 'year', 'Month': 'month', 'DayofMonth': 'day'}))\n",
        "bts_df['TailNum'] = bts_df['TailNum'].str.strip().str.upper()\n",
        "\n",
        "bts_clean = bts_df[[\n",
        "    'FlightDate', 'TailNum', 'UniqueCarrier', 'FlightNum',\n",
        "    'Origin', 'Dest', 'DepTime', 'ArrTime',\n",
        "    'DepDelay', 'ArrDelay', 'Distance', 'AirTime'\n",
        "]].copy()\n",
        "print(f\"Cleaned BTS data shape: {bts_clean.shape}\")"
      ],
      "metadata": {
        "colab": {
          "base_uri": "https://localhost:8080/"
        },
        "id": "lMkZqPTBUP2b",
        "outputId": "c76f4320-7238-4461-8100-263a8187b29d"
      },
      "execution_count": null,
      "outputs": [
        {
          "output_type": "stream",
          "name": "stdout",
          "text": [
            "\n",
            "--- Cleaning BTS Data ---\n",
            "Cleaned BTS data shape: (1928368, 12)\n"
          ]
        }
      ]
    },
    {
      "cell_type": "code",
      "source": [
        "print(\"\\n--- Cleaning NTSB Data (Removing Leaky Features) ---\")\n",
        "\n",
        "# Replace dots in column names\n",
        "ntsb_df.columns = ntsb_df.columns.str.replace('.', '_', regex=False)\n",
        "\n",
        "# Convert the 'Event_Date' column to datetime\n",
        "ntsb_df['Event_Date'] = pd.to_datetime(ntsb_df['Event_Date'], errors='coerce')\n",
        "ntsb_df.dropna(subset=['Event_Date', 'Registration_Number'], inplace=True)\n",
        "\n",
        "# Standardize the 'Registration_Number' column\n",
        "ntsb_df['Registration_Number'] = ntsb_df['Registration_Number'].str.strip().str.upper()\n",
        "\n",
        "# Select ONLY the key columns. DO NOT include phase of flight, damage, etc.\n",
        "ntsb_clean = ntsb_df[['Event_Date', 'Registration_Number']].copy()\n",
        "\n",
        "# Rename the key columns to match the BTS dataframe\n",
        "ntsb_clean.rename(columns={\n",
        "    'Event_Date': 'FlightDate',\n",
        "    'Registration_Number': 'TailNum'\n",
        "}, inplace=True)\n",
        "\n",
        "# Remove duplicates to ensure we only label each flight once\n",
        "ntsb_clean = ntsb_clean.drop_duplicates(subset=['FlightDate', 'TailNum'])\n",
        "\n",
        "print(f\"Cleaned NTSB data shape: {ntsb_clean.shape}\")"
      ],
      "metadata": {
        "colab": {
          "base_uri": "https://localhost:8080/"
        },
        "id": "S4Mx4srzUixo",
        "outputId": "9ea28cc3-b772-45b4-e570-97f1bd33e8ba"
      },
      "execution_count": null,
      "outputs": [
        {
          "output_type": "stream",
          "name": "stdout",
          "text": [
            "\n",
            "--- Cleaning NTSB Data (Removing Leaky Features) ---\n",
            "Cleaned NTSB data shape: (87442, 2)\n"
          ]
        }
      ]
    },
    {
      "cell_type": "code",
      "source": [
        "print(\"\\n--- Step 3: Merging Datasets and Labeling (Corrected) ---\")\n",
        "# Start with the clean BTS data\n",
        "master_df = bts_clean.copy()\n",
        "\n",
        "# Create a unique key for matching\n",
        "ntsb_clean['incident_key'] = ntsb_clean['FlightDate'].astype(str) + '-' + ntsb_clean['TailNum']\n",
        "master_df['flight_key'] = master_df['FlightDate'].astype(str) + '-' + master_df['TailNum']\n",
        "\n",
        "# Initialize target variable\n",
        "master_df['Incident_Occurred'] = 0\n",
        "\n",
        "# Find flights that match an incident key and set their flag to 1\n",
        "master_df.loc[master_df['flight_key'].isin(ntsb_clean['incident_key']), 'Incident_Occurred'] = 1\n",
        "print(f\"Total incidents labeled in master dataset: {master_df['Incident_Occurred'].sum()}\")\n",
        "\n",
        "# Drop helper columns\n",
        "master_df.drop(columns=['flight_key'], inplace=True)\n",
        "print(\"Merge complete. No leaky features were added.\")"
      ],
      "metadata": {
        "colab": {
          "base_uri": "https://localhost:8080/"
        },
        "id": "FIfiRPs5UsGX",
        "outputId": "928c9e32-eae1-4850-ed6f-b50645f1ee5a"
      },
      "execution_count": null,
      "outputs": [
        {
          "output_type": "stream",
          "name": "stdout",
          "text": [
            "\n",
            "--- Step 3: Merging Datasets and Labeling (Corrected) ---\n",
            "Total incidents labeled in master dataset: 28\n",
            "Merge complete. No leaky features were added.\n"
          ]
        }
      ]
    },
    {
      "cell_type": "code",
      "source": [
        "print(\"\\n--- Generating Visualizations ---\")\n",
        "plt.style.use('seaborn-v0_8-whitegrid')\n",
        "\n",
        "# Class Imbalance\n",
        "plt.figure(figsize=(8, 5))\n",
        "sns.countplot(x='Incident_Occurred', data=master_df, palette='pastel', hue='Incident_Occurred', legend=False)\n",
        "plt.title('Class Imbalance: Safe Flights vs. Incidents', fontsize=16, fontweight='bold')\n",
        "plt.ylabel('Number of Flights (Log Scale)')\n",
        "plt.yscale('log')\n",
        "plt.show()"
      ],
      "metadata": {
        "colab": {
          "base_uri": "https://localhost:8080/",
          "height": 519
        },
        "id": "bbQhldOAUygd",
        "outputId": "e7116c80-6b85-46fa-ca7a-6046ce6173f2"
      },
      "execution_count": null,
      "outputs": [
        {
          "output_type": "stream",
          "name": "stdout",
          "text": [
            "\n",
            "--- Generating Visualizations ---\n"
          ]
        },
        {
          "output_type": "display_data",
          "data": {
            "text/plain": [
              "<Figure size 800x500 with 1 Axes>"
            ],
            "image/png": "[encoded data removed]"
          },
          "metadata": {}
        }
      ]
    },
    {
      "cell_type": "code",
      "source": [
        "print(\"\\n--- Final Preparation for Machine Learning Model ---\")\n",
        "\n",
        "# Drop identifiers and columns with too much free text or redundancy\n",
        "# The leaky features are no longer here, so no need to drop them\n",
        "final_df = master_df.drop(columns=['FlightDate', 'TailNum', 'FlightNum', 'ArrTime', 'DepTime'])\n",
        "\n",
        "# --- Reduce Cardinality for 'Origin' and 'Dest' ---\n",
        "print(\"Reducing cardinality for Origin and Dest...\")\n",
        "N_TOP_AIRPORTS = 50\n",
        "top_origin_airports = final_df['Origin'].value_counts().nlargest(N_TOP_AIRPORTS).index\n",
        "final_df['Origin'] = final_df['Origin'].apply(lambda x: x if x in top_origin_airports else 'Other')\n",
        "\n",
        "top_dest_airports = final_df['Dest'].value_counts().nlargest(N_TOP_AIRPORTS).index\n",
        "final_df['Dest'] = final_df['Dest'].apply(lambda x: x if x in top_dest_airports else 'Other')\n",
        "print(\"Cardinality reduction complete.\")\n",
        "\n",
        "# --- One-Hot Encode categorical features ---\n",
        "print(\"Performing one-hot encoding...\")\n",
        "categorical_cols = final_df.select_dtypes(include=['object', 'category']).columns\n",
        "final_df_encoded = pd.get_dummies(final_df, columns=categorical_cols, drop_first=True, dtype=int)\n",
        "\n",
        "print(\"Shape of the final, encoded dataframe:\", final_df_encoded.shape)"
      ],
      "metadata": {
        "colab": {
          "base_uri": "https://localhost:8080/"
        },
        "id": "ERRW7TDwU3Uq",
        "outputId": "3195688b-6c43-4a10-fd26-29f4e4e07e11"
      },
      "execution_count": null,
      "outputs": [
        {
          "output_type": "stream",
          "name": "stdout",
          "text": [
            "\n",
            "--- Final Preparation for Machine Learning Model ---\n",
            "Reducing cardinality for Origin and Dest...\n",
            "Cardinality reduction complete.\n",
            "Performing one-hot encoding...\n",
            "Shape of the final, encoded dataframe: (1928368, 124)\n"
          ]
        }
      ]
    },
    {
      "cell_type": "code",
      "source": [
        "import pandas as pd\n",
        "import numpy as np\n",
        "import xgboost as xgb\n",
        "import seaborn as sns\n",
        "import matplotlib.pyplot as plt\n",
        "from sklearn.model_selection import StratifiedKFold, RandomizedSearchCV, train_test_split\n",
        "from sklearn.metrics import classification_report, confusion_matrix, recall_score, precision_score, f1_score, precision_recall_curve, auc\n",
        "from scipy.stats import uniform, randint"
      ],
      "metadata": {
        "id": "oGqqEE7jcWaf"
      },
      "execution_count": null,
      "outputs": []
    },
    {
      "cell_type": "code",
      "source": [
        "# Define your features (X) and target (y)\n",
        "X = final_df_encoded.drop('Incident_Occurred', axis=1)\n",
        "y = final_df_encoded['Incident_Occurred']"
      ],
      "metadata": {
        "id": "eAoMicDIVEz2"
      },
      "execution_count": null,
      "outputs": []
    },
    {
      "cell_type": "code",
      "source": [
        "N_SPLITS = 5  # Use 5 folds for a good balance\n",
        "skf = StratifiedKFold(n_splits=N_SPLITS, shuffle=True, random_state=42)\n",
        "\n",
        "# Lists to store the scores from each fold\n",
        "fold_recall_scores = []\n",
        "fold_precision_scores = []\n",
        "fold_f1_scores = []\n",
        "\n",
        "print(f\"Starting {N_SPLITS}-Fold Stratified Cross-Validation...\")"
      ],
      "metadata": {
        "colab": {
          "base_uri": "https://localhost:8080/"
        },
        "id": "vjq36wXvgVeR",
        "outputId": "19993d53-23ca-4118-ab9c-5788739e1f94"
      },
      "execution_count": null,
      "outputs": [
        {
          "output_type": "stream",
          "name": "stdout",
          "text": [
            "Starting 5-Fold Stratified Cross-Validation...\n"
          ]
        }
      ]
    },
    {
      "cell_type": "code",
      "source": [
        "fold_counter = 1\n",
        "for train_index, test_index in skf.split(X, y):\n",
        "    print(f\"\\n--- Fold {fold_counter}/{N_SPLITS} ---\")\n",
        "\n",
        "    # 1. Split data for this fold\n",
        "    X_train, X_test = X.iloc[train_index], X.iloc[test_index]\n",
        "    y_train, y_test = y.iloc[train_index], y.iloc[test_index]\n",
        "\n",
        "    # 2. Calculate scale_pos_weight for this fold\n",
        "    #    (We are NO LONGER USING SMOTE)\n",
        "    count_safe = y_train.value_counts()[0]\n",
        "    count_incident = y_train.value_counts()[1]\n",
        "    scale_pos_weight = count_safe / count_incident\n",
        "    print(f\"Training data: {y_train.value_counts().to_dict()}\")\n",
        "    print(f\"Using scale_pos_weight: {scale_pos_weight:.2f}\")\n",
        "\n",
        "    # 3. Initialize the XGBoost model with scale_pos_weight\n",
        "    xgb_classifier = xgb.XGBClassifier(\n",
        "        objective='binary:logistic',\n",
        "        eval_metric='aucpr',\n",
        "        scale_pos_weight=scale_pos_weight,  # <-- THIS IS THE FIX\n",
        "        n_estimators=1000,\n",
        "        max_depth=5,\n",
        "        learning_rate=0.1,\n",
        "        use_label_encoder=False,\n",
        "        random_state=42,\n",
        "        early_stopping_rounds=50\n",
        "    )\n",
        "\n",
        "    # 4. Train the model on the ORIGINAL training data\n",
        "    xgb_classifier.fit(\n",
        "        X_train,\n",
        "        y_train,\n",
        "        eval_set=[(X_test, y_test)],\n",
        "        verbose=False\n",
        "    )\n",
        "\n",
        "    # 5. Evaluate on the original test set\n",
        "    y_pred = xgb_classifier.predict(X_test)\n",
        "\n",
        "    # Calculate and store metrics for the 'Incident (1)' class\n",
        "    # Use zero_division=0 to prevent errors if a fold has 0 predictions\n",
        "    recall = recall_score(y_test, y_pred, zero_division=0)\n",
        "    precision = precision_score(y_test, y_pred, zero_division=0)\n",
        "    f1 = f1_score(y_test, y_pred, zero_division=0)\n",
        "\n",
        "    fold_recall_scores.append(recall)\n",
        "    fold_precision_scores.append(precision)\n",
        "    fold_f1_scores.append(f1)\n",
        "\n",
        "    print(f\"Fold {fold_counter} Recall: {recall:.4f}\")\n",
        "    print(f\"Fold {fold_counter} Precision: {precision:.4f}\")\n",
        "    print(f\"Fold {fold_counter} F1-Score: {f1:.4f}\")\n",
        "\n",
        "    fold_counter += 1"
      ],
      "metadata": {
        "colab": {
          "base_uri": "https://localhost:8080/"
        },
        "id": "-ZcgL8WYgXcj",
        "outputId": "d7f204cb-2df5-401a-f924-eb91720abf16"
      },
      "execution_count": null,
      "outputs": [
        {
          "output_type": "stream",
          "name": "stdout",
          "text": [
            "\n",
            "--- Fold 1/5 ---\n",
            "Training data: {0: 1542672, 1: 22}\n",
            "Using scale_pos_weight: 70121.45\n"
          ]
        },
        {
          "output_type": "stream",
          "name": "stderr",
          "text": [
            "/usr/local/lib/python3.12/dist-packages/xgboost/callback.py:386: UserWarning: [05:17:20] WARNING: /workspace/src/learner.cc:738: \n",
            "Parameters: { \"use_label_encoder\" } are not used.\n",
            "\n",
            "  self.starting_round = model.num_boosted_rounds()\n"
          ]
        },
        {
          "output_type": "stream",
          "name": "stdout",
          "text": [
            "Fold 1 Recall: 0.1667\n",
            "Fold 1 Precision: 0.0009\n",
            "Fold 1 F1-Score: 0.0018\n",
            "\n",
            "--- Fold 2/5 ---\n",
            "Training data: {0: 1542672, 1: 22}\n",
            "Using scale_pos_weight: 70121.45\n"
          ]
        },
        {
          "output_type": "stream",
          "name": "stderr",
          "text": [
            "/usr/local/lib/python3.12/dist-packages/xgboost/callback.py:386: UserWarning: [05:18:34] WARNING: /workspace/src/learner.cc:738: \n",
            "Parameters: { \"use_label_encoder\" } are not used.\n",
            "\n",
            "  self.starting_round = model.num_boosted_rounds()\n"
          ]
        },
        {
          "output_type": "stream",
          "name": "stdout",
          "text": [
            "Fold 2 Recall: 0.3333\n",
            "Fold 2 Precision: 0.0003\n",
            "Fold 2 F1-Score: 0.0006\n",
            "\n",
            "--- Fold 3/5 ---\n",
            "Training data: {0: 1542672, 1: 22}\n",
            "Using scale_pos_weight: 70121.45\n"
          ]
        },
        {
          "output_type": "stream",
          "name": "stderr",
          "text": [
            "/usr/local/lib/python3.12/dist-packages/xgboost/callback.py:386: UserWarning: [05:19:23] WARNING: /workspace/src/learner.cc:738: \n",
            "Parameters: { \"use_label_encoder\" } are not used.\n",
            "\n",
            "  self.starting_round = model.num_boosted_rounds()\n"
          ]
        },
        {
          "output_type": "stream",
          "name": "stdout",
          "text": [
            "Fold 3 Recall: 0.3333\n",
            "Fold 3 Precision: 0.0026\n",
            "Fold 3 F1-Score: 0.0051\n",
            "\n",
            "--- Fold 4/5 ---\n",
            "Training data: {0: 1542672, 1: 23}\n",
            "Using scale_pos_weight: 67072.70\n"
          ]
        },
        {
          "output_type": "stream",
          "name": "stderr",
          "text": [
            "/usr/local/lib/python3.12/dist-packages/xgboost/callback.py:386: UserWarning: [05:20:41] WARNING: /workspace/src/learner.cc:738: \n",
            "Parameters: { \"use_label_encoder\" } are not used.\n",
            "\n",
            "  self.starting_round = model.num_boosted_rounds()\n"
          ]
        },
        {
          "output_type": "stream",
          "name": "stdout",
          "text": [
            "Fold 4 Recall: 0.4000\n",
            "Fold 4 Precision: 0.0001\n",
            "Fold 4 F1-Score: 0.0003\n",
            "\n",
            "--- Fold 5/5 ---\n",
            "Training data: {0: 1542672, 1: 23}\n",
            "Using scale_pos_weight: 67072.70\n"
          ]
        },
        {
          "output_type": "stream",
          "name": "stderr",
          "text": [
            "/usr/local/lib/python3.12/dist-packages/xgboost/callback.py:386: UserWarning: [05:21:30] WARNING: /workspace/src/learner.cc:738: \n",
            "Parameters: { \"use_label_encoder\" } are not used.\n",
            "\n",
            "  self.starting_round = model.num_boosted_rounds()\n"
          ]
        },
        {
          "output_type": "stream",
          "name": "stdout",
          "text": [
            "Fold 5 Recall: 0.2000\n",
            "Fold 5 Precision: 0.0006\n",
            "Fold 5 F1-Score: 0.0012\n"
          ]
        }
      ]
    },
    {
      "cell_type": "code",
      "source": [
        "print(\"\\n--- Cross-Validation Summary ---\")\n",
        "print(f\"Average Recall:    {np.mean(fold_recall_scores):.4f} +/- {np.std(fold_recall_scores):.4f}\")\n",
        "print(f\"Average Precision: {np.mean(fold_precision_scores):.4f} +/- {np.std(fold_precision_scores):.4f}\")\n",
        "print(f\"Average F1-Score:  {np.mean(fold_f1_scores):.4f} +/- {np.std(fold_f1_scores):.4f}\")"
      ],
      "metadata": {
        "colab": {
          "base_uri": "https://localhost:8080/"
        },
        "id": "14oF4O-wgs9s",
        "outputId": "4bb5465d-5ecb-49d3-b39d-63fd2ea6a1b2"
      },
      "execution_count": null,
      "outputs": [
        {
          "output_type": "stream",
          "name": "stdout",
          "text": [
            "\n",
            "--- Cross-Validation Summary ---\n",
            "Average Recall:    0.2867 +/- 0.0884\n",
            "Average Precision: 0.0009 +/- 0.0009\n",
            "Average F1-Score:  0.0018 +/- 0.0017\n"
          ]
        }
      ]
    }
  ],
  "metadata": {
    "accelerator": "GPU",
    "colab": {
      "gpuType": "T4",
      "provenance": []
    },
    "kernelspec": {
      "display_name": "Python 3",
      "name": "python3"
    },
    "language_info": {
      "name": "python"
    }
  },
  "nbformat": 4,
  "nbformat_minor": 0
}